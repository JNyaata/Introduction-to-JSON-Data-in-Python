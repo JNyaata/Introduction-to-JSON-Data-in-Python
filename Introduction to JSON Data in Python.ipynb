{
 "cells": [
  {
   "cell_type": "markdown",
   "metadata": {},
   "source": [
    "# Introduction to JSON Data in Python"
   ]
  },
  {
   "cell_type": "markdown",
   "metadata": {},
   "source": [
    "**Learning Objectives**\n",
    "\n",
    "**After completing this tutorial, you will be able to:**\n",
    "\n",
    "1. Describe the key structure elements of a JSON data structure: name/value pairs.\n",
    "2. Identify the components of the hierarchical JSON data structures including: objects, arrays and data elements.\n",
    "3. List some of the core data types that a JSON data structure can store including: boolean, numeric and string."
   ]
  },
  {
   "cell_type": "markdown",
   "metadata": {},
   "source": [
    "In this lesson, you will explore the machine readable JSON data structure. Machine readable data structures are more efficient - particularly for larger data that contain hierarchical structures"
   ]
  },
  {
   "cell_type": "markdown",
   "metadata": {},
   "source": [
    "# Review"
   ]
  },
  {
   "cell_type": "markdown",
   "metadata": {},
   "source": [
    "Remember that in the first lesson in this module, you learned about RESTful APIs. You explored the concept of a request and then a subsequent response. The request to an RESTful API is composed of a URL and the associated parameters required to access a particular subset of the data that you wish to access."
   ]
  },
  {
   "cell_type": "markdown",
   "metadata": {},
   "source": [
    "When you send the request, the web API returns one of the following:\n",
    "    1. The data that you requested or\n",
    "    2. A failed to return message which tells us that something was wrong with your request."
   ]
  },
  {
   "cell_type": "markdown",
   "metadata": {},
   "source": [
    "# About JSON"
   ]
  },
  {
   "cell_type": "markdown",
   "metadata": {},
   "source": [
    "Before going any  further, revisit the JavaScript Object Notation or JSON data structure that you learned about in the introductory lesson in this module. **JSON is an ideal format for larger data that have a hierarchical structured rrelationship**"
   ]
  },
  {
   "cell_type": "markdown",
   "metadata": {},
   "source": [
    "In python, **JSON data is similar to a dictionary because it has keys (i.e. names) and values, but it is encoded as a string**"
   ]
  },
  {
   "cell_type": "markdown",
   "metadata": {},
   "source": [
    "The Python library json is helpful to convert data from lists or dictonaries into JSON strings and JSON strings into lists or dictonaries. Pandas can also be used to convert JSON data (via a Python dictionary) into a Pandas DataFrame."
   ]
  },
  {
   "cell_type": "markdown",
   "metadata": {},
   "source": [
    "The structure of a JSON object is as follows:\n",
    "\n",
    "    1.The data are in name/value pairs using colons :. \n",
    "    2.Data objects are separated by commas.\n",
    "    3. Curly braces {} hold the objects.\n",
    "    4.Square brackets [] can be used to indicate an array that contains a group of objects.\n",
    "    5.Each data element is enclosed with quotes \"\" if it is a character, or without quotes if it is a numeric value."
   ]
  },
  {
   "cell_type": "markdown",
   "metadata": {},
   "source": [
    "Example of a name/value pair using a colon:"
   ]
  },
  {
   "cell_type": "code",
   "execution_count": 1,
   "metadata": {},
   "outputs": [
    {
     "data": {
      "text/plain": [
       "{'name': 'Chaya'}"
      ]
     },
     "execution_count": 1,
     "metadata": {},
     "output_type": "execute_result"
    }
   ],
   "source": [
    " { \"name\":\"Chaya\" }"
   ]
  },
  {
   "cell_type": "markdown",
   "metadata": {},
   "source": [
    "Example of objects separated by commas:"
   ]
  },
  {
   "cell_type": "code",
   "execution_count": 2,
   "metadata": {},
   "outputs": [
    {
     "data": {
      "text/plain": [
       "{'name': 'Chaya', 'age': 12, 'city': 'Boulder', 'type': 'Canine'}"
      ]
     },
     "execution_count": 2,
     "metadata": {},
     "output_type": "execute_result"
    }
   ],
   "source": [
    "{\"name\":\"Chaya\", \"age\":12,\"city\":\"Boulder\", \"type\":\"Canine\"}"
   ]
  },
  {
   "cell_type": "markdown",
   "metadata": {},
   "source": [
    "Notice that the data above are structured. Thus, each element contains a particular object name (name,age,city,etc) and values are associated with these names. This is similar to column headings in a CSV file"
   ]
  },
  {
   "cell_type": "markdown",
   "metadata": {},
   "source": [
    "However, **the JSON structure can also be nested using square brackets to indicate an array that contains a group of objects, like this:**"
   ]
  },
  {
   "cell_type": "code",
   "execution_count": 3,
   "metadata": {},
   "outputs": [
    {
     "data": {
      "text/plain": [
       "{'students': [{'firstName': 'Serena', 'lastName': 'Williams'},\n",
       "  {'firstName': 'Boe', 'lastName': 'Diddly'},\n",
       "  {'firstName': 'Al', 'lastName': 'Gore'}]}"
      ]
     },
     "execution_count": 3,
     "metadata": {},
     "output_type": "execute_result"
    }
   ],
   "source": [
    "{\"students\":[\n",
    "    { \"firstName\":\"Serena\", \"lastName\":\"Williams\" },\n",
    "    { \"firstName\":\"Boe\", \"lastName\":\"Diddly\" },\n",
    "    { \"firstName\":\"Al\", \"lastName\":\"Gore\" }\n",
    "]}"
   ]
  },
  {
   "cell_type": "markdown",
   "metadata": {},
   "source": [
    "The ability to store nested or hierarchical data within a text file structure makes JSON a powerful format to use as you are working with larger datasets"
   ]
  },
  {
   "cell_type": "markdown",
   "metadata": {},
   "source": [
    "**Data Tip:** The GeoJSON data structure is a powerful data structure that supports spatial data. GeoJSON can be used to create maps just like shapefiles can. This format is often used for web mapping applications like Leaflet (which you will learn about later in this module)."
   ]
  },
  {
   "cell_type": "markdown",
   "metadata": {},
   "source": [
    "# JSON Data Structures"
   ]
  },
  {
   "cell_type": "markdown",
   "metadata": {},
   "source": [
    "JSON can store any of the following data types:\n",
    "\n",
    "    1.strings\n",
    "\n",
    "    2.numbers\n",
    "\n",
    "    3.objects (JSON object)\n",
    "\n",
    "    4.arrays\n",
    "\n",
    "    5.booleans (TRUE / FALSE)\n",
    "\n",
    "    6.null"
   ]
  },
  {
   "cell_type": "markdown",
   "metadata": {},
   "source": [
    "Note that in the example below, the word “Chaya”, which is the value associated with “name”, is in quotes \"\". This specifies that “Chaya” is a string (characters rather than numeric)."
   ]
  },
  {
   "cell_type": "code",
   "execution_count": 4,
   "metadata": {},
   "outputs": [
    {
     "data": {
      "text/plain": [
       "{'name': 'Chaya'}"
      ]
     },
     "execution_count": 4,
     "metadata": {},
     "output_type": "execute_result"
    }
   ],
   "source": [
    " { \"name\":\"Chaya\" }"
   ]
  },
  {
   "cell_type": "markdown",
   "metadata": {},
   "source": [
    "In this example, the value 12, associated with “age”, is not in quotes. This specifies that this value is a number or of type numeric."
   ]
  },
  {
   "cell_type": "code",
   "execution_count": 5,
   "metadata": {},
   "outputs": [
    {
     "data": {
      "text/plain": [
       "{'name': 'Chaya', 'age': 12, 'city': 'Boulder', 'type': 'Canine'}"
      ]
     },
     "execution_count": 5,
     "metadata": {},
     "output_type": "execute_result"
    }
   ],
   "source": [
    "{ \"name\":\"Chaya\", \"age\":12, \"city\":\"Boulder\", \"type\":\"Canine\" }"
   ]
  },
  {
   "cell_type": "markdown",
   "metadata": {},
   "source": [
    "Next, you will work with JSON structured data, accessed via a RESTful API. A snippet of the data that you will work with is below. Notice that the JSON is enclosed in brackets [ ] to indicate an array containing a group of objects."
   ]
  },
  {
   "cell_type": "code",
   "execution_count": 6,
   "metadata": {},
   "outputs": [
    {
     "data": {
      "text/plain": [
       "[{'age': '0',\n",
       "  'county': 'Adams',\n",
       "  'datatype': 'Estimate',\n",
       "  'femalepopulation': '2404',\n",
       "  'fipscode': '1',\n",
       "  'malepopulation': '2354',\n",
       "  'totalpopulation': '4758',\n",
       "  'year': '1990'},\n",
       " {'age': '1',\n",
       "  'county': 'Adams',\n",
       "  'datatype': 'Estimate',\n",
       "  'femalepopulation': '2375',\n",
       "  'fipscode': '1',\n",
       "  'malepopulation': '2345',\n",
       "  'totalpopulation': '4720',\n",
       "  'year': '1990'},\n",
       " {'age': '2',\n",
       "  'county': 'Adams',\n",
       "  'datatype': 'Estimate',\n",
       "  'femalepopulation': '2219',\n",
       "  'fipscode': '1',\n",
       "  'malepopulation': '2413',\n",
       "  'totalpopulation': '4632',\n",
       "  'year': '1990'}]"
      ]
     },
     "execution_count": 6,
     "metadata": {},
     "output_type": "execute_result"
    }
   ],
   "source": [
    "[{\"age\":\"0\",\"county\":\"Adams\",\"datatype\":\"Estimate\",\"femalepopulation\":\"2404\",\"fipscode\":\"1\",\"malepopulation\":\"2354\",\"totalpopulation\":\"4758\",\"year\":\"1990\"}\n",
    ",{\"age\":\"1\",\"county\":\"Adams\",\"datatype\":\"Estimate\",\"femalepopulation\":\"2375\",\"fipscode\":\"1\",\"malepopulation\":\"2345\",\"totalpopulation\":\"4720\",\"year\":\"1990\"}\n",
    ",{\"age\":\"2\",\"county\":\"Adams\",\"datatype\":\"Estimate\",\"femalepopulation\":\"2219\",\"fipscode\":\"1\",\"malepopulation\":\"2413\",\"totalpopulation\":\"4632\",\"year\":\"1990\"}]\n"
   ]
  },
  {
   "cell_type": "markdown",
   "metadata": {},
   "source": [
    "# Introduction to Working With JSON Data in Open Source Python"
   ]
  },
  {
   "cell_type": "markdown",
   "metadata": {},
   "source": [
    "**Learning Objectives**\n",
    "\n",
    "After completing this tutorial, you will be able to:\n",
    "    \n",
    "\n",
    "    1.Create and convert JSON objects using Python"
   ]
  },
  {
   "cell_type": "markdown",
   "metadata": {},
   "source": [
    "In this lesson, you will explore the machine readable JSON data structure. Machine readable data structures are more efficient - particularly for larger data that contain hierarchical structures"
   ]
  },
  {
   "cell_type": "markdown",
   "metadata": {},
   "source": [
    "You also learned that the Python library json is helpful to convert data from lists or dictonaries into JSON strings and JSON strings into lists or dictonaries. Pandas can also be used to convert JSON data (via a Python dictionary) into a Pandas DataFrame.\n",
    "\n",
    "**In this lesson, you will use the json and Pandas libraries to create and convert JSON objects.**\n"
   ]
  },
  {
   "cell_type": "markdown",
   "metadata": {},
   "source": [
    "# Work with JSON Data in Python"
   ]
  },
  {
   "cell_type": "markdown",
   "metadata": {},
   "source": [
    "**Python Dictionary to JSON**"
   ]
  },
  {
   "cell_type": "markdown",
   "metadata": {},
   "source": [
    "Using the Python json library, you can convert a Python dictionary to a JSON string using the **json.dumps( ) function.**\n",
    "\n",
    "Begin by creating the Python dictionary that will be converted to JSON"
   ]
  },
  {
   "cell_type": "code",
   "execution_count": 7,
   "metadata": {},
   "outputs": [],
   "source": [
    "import json\n",
    "import pandas as pd"
   ]
  },
  {
   "cell_type": "code",
   "execution_count": 17,
   "metadata": {},
   "outputs": [
    {
     "data": {
      "text/plain": [
       "{'name': 'Chaya', 'age': 12, 'city': 'Boulder', 'type': 'Canine'}"
      ]
     },
     "execution_count": 17,
     "metadata": {},
     "output_type": "execute_result"
    }
   ],
   "source": [
    "#create and populate the dictionary\n",
    "dict = {}\n",
    "dict['name'] = 'Chaya'\n",
    "dict['age'] = 12\n",
    "dict['city'] = 'Boulder'\n",
    "dict['type'] = 'Canine'\n",
    "\n",
    "dict\n",
    "\n"
   ]
  },
  {
   "cell_type": "markdown",
   "metadata": {},
   "source": [
    "**Notice below that the python dictionary and the JSON string look very similar, but that the JSON string is enclosed with quotes''**"
   ]
  },
  {
   "cell_type": "code",
   "execution_count": 18,
   "metadata": {},
   "outputs": [],
   "source": [
    "json_example = json.dumps(dict, ensure_ascii=False)"
   ]
  },
  {
   "cell_type": "code",
   "execution_count": 35,
   "metadata": {},
   "outputs": [
    {
     "data": {
      "text/plain": [
       "'{\"name\": \"Chaya\", \"age\": 12, \"city\": \"Boulder\", \"type\": \"Canine\"}'"
      ]
     },
     "execution_count": 35,
     "metadata": {},
     "output_type": "execute_result"
    }
   ],
   "source": [
    "json_example"
   ]
  },
  {
   "cell_type": "markdown",
   "metadata": {},
   "source": [
    "Recall that you use **type( )** to check the object type, and notice that the JSON is of type str"
   ]
  },
  {
   "cell_type": "code",
   "execution_count": 20,
   "metadata": {},
   "outputs": [
    {
     "data": {
      "text/plain": [
       "str"
      ]
     },
     "execution_count": 20,
     "metadata": {},
     "output_type": "execute_result"
    }
   ],
   "source": [
    "type(json_example)"
   ]
  },
  {
   "cell_type": "markdown",
   "metadata": {},
   "source": [
    "# JSON to Python Dictionary"
   ]
  },
  {
   "cell_type": "markdown",
   "metadata": {},
   "source": [
    "You can also manually define JSON by enclosing the JSON with quotes ''"
   ]
  },
  {
   "cell_type": "code",
   "execution_count": 24,
   "metadata": {},
   "outputs": [
    {
     "data": {
      "text/plain": [
       "str"
      ]
     },
     "execution_count": 24,
     "metadata": {},
     "output_type": "execute_result"
    }
   ],
   "source": [
    "json_sample = '{\"name\":\"Chaya\", \"age\":12, \"city\":\"Boulder\",\"type\":\"Canine\"}'\n",
    "type(json_sample)\n"
   ]
  },
  {
   "cell_type": "markdown",
   "metadata": {},
   "source": [
    "Using the **json.loads( )** function, a JSON string can be converted to a dictionary"
   ]
  },
  {
   "cell_type": "code",
   "execution_count": 25,
   "metadata": {},
   "outputs": [],
   "source": [
    "#Load JSON into dictionary\n",
    "data_sample = json.loads(json_sample)"
   ]
  },
  {
   "cell_type": "code",
   "execution_count": 26,
   "metadata": {},
   "outputs": [
    {
     "data": {
      "text/plain": [
       "{'name': 'Chaya', 'age': 12, 'city': 'Boulder', 'type': 'Canine'}"
      ]
     },
     "execution_count": 26,
     "metadata": {},
     "output_type": "execute_result"
    }
   ],
   "source": [
    "data_sample"
   ]
  },
  {
   "cell_type": "markdown",
   "metadata": {},
   "source": [
    "You can check the type again to see that it has been converted to a python dictionary."
   ]
  },
  {
   "cell_type": "code",
   "execution_count": 27,
   "metadata": {},
   "outputs": [
    {
     "data": {
      "text/plain": [
       "dict"
      ]
     },
     "execution_count": 27,
     "metadata": {},
     "output_type": "execute_result"
    }
   ],
   "source": [
    "type(data_sample)"
   ]
  },
  {
   "cell_type": "markdown",
   "metadata": {},
   "source": [
    "Recall that you can call any key of a python dictionary and see the associated values."
   ]
  },
  {
   "cell_type": "code",
   "execution_count": 28,
   "metadata": {},
   "outputs": [
    {
     "data": {
      "text/plain": [
       "'Chaya'"
      ]
     },
     "execution_count": 28,
     "metadata": {},
     "output_type": "execute_result"
    }
   ],
   "source": [
    "data_sample[\"name\"]"
   ]
  },
  {
   "cell_type": "code",
   "execution_count": 29,
   "metadata": {},
   "outputs": [
    {
     "data": {
      "text/plain": [
       "'Boulder'"
      ]
     },
     "execution_count": 29,
     "metadata": {},
     "output_type": "execute_result"
    }
   ],
   "source": [
    "data_sample[\"city\"]"
   ]
  },
  {
   "cell_type": "markdown",
   "metadata": {},
   "source": [
    "# Python Dictionary to Pandas Dataframe"
   ]
  },
  {
   "cell_type": "markdown",
   "metadata": {},
   "source": [
    "If desired, you can use the **from_dict( ) function** from pandas to read the dictionary into a pandas Dataframe."
   ]
  },
  {
   "cell_type": "code",
   "execution_count": 30,
   "metadata": {},
   "outputs": [],
   "source": [
    "df = pd.DataFrame.from_dict(data_sample, orient='index')"
   ]
  },
  {
   "cell_type": "code",
   "execution_count": 31,
   "metadata": {},
   "outputs": [
    {
     "data": {
      "text/html": [
       "<div>\n",
       "<style scoped>\n",
       "    .dataframe tbody tr th:only-of-type {\n",
       "        vertical-align: middle;\n",
       "    }\n",
       "\n",
       "    .dataframe tbody tr th {\n",
       "        vertical-align: top;\n",
       "    }\n",
       "\n",
       "    .dataframe thead th {\n",
       "        text-align: right;\n",
       "    }\n",
       "</style>\n",
       "<table border=\"1\" class=\"dataframe\">\n",
       "  <thead>\n",
       "    <tr style=\"text-align: right;\">\n",
       "      <th></th>\n",
       "      <th>0</th>\n",
       "    </tr>\n",
       "  </thead>\n",
       "  <tbody>\n",
       "    <tr>\n",
       "      <th>name</th>\n",
       "      <td>Chaya</td>\n",
       "    </tr>\n",
       "    <tr>\n",
       "      <th>age</th>\n",
       "      <td>12</td>\n",
       "    </tr>\n",
       "    <tr>\n",
       "      <th>city</th>\n",
       "      <td>Boulder</td>\n",
       "    </tr>\n",
       "    <tr>\n",
       "      <th>type</th>\n",
       "      <td>Canine</td>\n",
       "    </tr>\n",
       "  </tbody>\n",
       "</table>\n",
       "</div>"
      ],
      "text/plain": [
       "            0\n",
       "name    Chaya\n",
       "age        12\n",
       "city  Boulder\n",
       "type   Canine"
      ]
     },
     "execution_count": 31,
     "metadata": {},
     "output_type": "execute_result"
    }
   ],
   "source": [
    "df"
   ]
  },
  {
   "cell_type": "markdown",
   "metadata": {},
   "source": [
    "# Pandas Dataframe to JSON"
   ]
  },
  {
   "cell_type": "markdown",
   "metadata": {},
   "source": [
    "Conversely, you can also convert a Pandas Dataframe to JSON using the pandas method **to_json()**"
   ]
  },
  {
   "cell_type": "code",
   "execution_count": 32,
   "metadata": {},
   "outputs": [],
   "source": [
    "sample_join = df.to_json(orient='split')"
   ]
  },
  {
   "cell_type": "code",
   "execution_count": 33,
   "metadata": {},
   "outputs": [
    {
     "data": {
      "text/plain": [
       "str"
      ]
     },
     "execution_count": 33,
     "metadata": {},
     "output_type": "execute_result"
    }
   ],
   "source": [
    "type(sample_join)"
   ]
  },
  {
   "cell_type": "code",
   "execution_count": 36,
   "metadata": {},
   "outputs": [
    {
     "data": {
      "text/plain": [
       "'{\"columns\":[0],\"index\":[\"name\",\"age\",\"city\",\"type\"],\"data\":[[\"Chaya\"],[12],[\"Boulder\"],[\"Canine\"]]}'"
      ]
     },
     "execution_count": 36,
     "metadata": {},
     "output_type": "execute_result"
    }
   ],
   "source": [
    "sample_join"
   ]
  },
  {
   "cell_type": "markdown",
   "metadata": {},
   "source": [
    "You now know the basics of creating and converting JSON objects using Python. In the next lessons, you will work with hierarchical JSON data accessed via RESTful APIs."
   ]
  },
  {
   "cell_type": "markdown",
   "metadata": {},
   "source": [
    "# Programmatically Accessing Geospatial Data Using APIs"
   ]
  },
  {
   "cell_type": "markdown",
   "metadata": {},
   "source": [
    "**Learning Objectives**\n",
    "\n",
    "After completing this tutorial, you will be able to:\n",
    "    \n",
    "    1.Extract geospatial (x,y) coordinate information embedded within a JSON hierarchical data structure.\n",
    "    2.Convert data imported in JSON format into a Geopandas DataFrame.\n",
    "    3.Create a map of geospatial data."
   ]
  },
  {
   "cell_type": "markdown",
   "metadata": {},
   "source": [
    "In this lesson, you work with **JSON** data accessed via the Colorado information warehouse. The data will contain geospatial information nested within it that will allow us to create a map of the data."
   ]
  },
  {
   "cell_type": "markdown",
   "metadata": {},
   "source": [
    "# Working with Geospatial Data"
   ]
  },
  {
   "cell_type": "markdown",
   "metadata": {},
   "source": [
    "Check out the map **Colorado DWR Current Surface Water Conditions map.**"
   ]
  },
  {
   "cell_type": "markdown",
   "metadata": {},
   "source": [
    "Remember from the previous lesson, APIs can be used for many different things. Web developers (people who program and create web sites and cool applications) can use APIs to create user friendly interfaces - like the map in the previous example that allows us to look at and interact with data. These APIs are similar to, if not the same as, the ones that you often use to access data in Python."
   ]
  },
  {
   "cell_type": "code",
   "execution_count": 3,
   "metadata": {},
   "outputs": [],
   "source": [
    "import requests\n",
    "import folium\n",
    "import urllib\n",
    "from pandas.io.json import json_normalize\n",
    "import pandas as pd\n",
    "import folium\n",
    "from geopandas import GeoDataFrame\n",
    "from shapely.geometry import Point"
   ]
  },
  {
   "cell_type": "code",
   "execution_count": 4,
   "metadata": {},
   "outputs": [],
   "source": [
    "# Get URL\n",
    "water_base_url = \"https://data.colorado.gov/resource/j5pc-4t32.json?\"\n",
    "water_full_url = water_base_url + \"station_status=Active\" + \"&county=BOULDER\""
   ]
  },
  {
   "cell_type": "code",
   "execution_count": 5,
   "metadata": {},
   "outputs": [
    {
     "data": {
      "text/plain": [
       "'https://data.colorado.gov/resource/j5pc-4t32.json?station_status=Active&county=BOULDER'"
      ]
     },
     "execution_count": 5,
     "metadata": {},
     "output_type": "execute_result"
    }
   ],
   "source": [
    "water_full_url"
   ]
  },
  {
   "cell_type": "code",
   "execution_count": 6,
   "metadata": {},
   "outputs": [],
   "source": [
    "data = requests.get(water_full_url)"
   ]
  },
  {
   "cell_type": "code",
   "execution_count": 7,
   "metadata": {},
   "outputs": [
    {
     "data": {
      "text/plain": [
       "list"
      ]
     },
     "execution_count": 7,
     "metadata": {},
     "output_type": "execute_result"
    }
   ],
   "source": [
    "type(data.json())"
   ]
  },
  {
   "cell_type": "markdown",
   "metadata": {},
   "source": [
    "Remember that the JSON structure supports hierarchical data and can be NESTED. If you look at the structure of the .json file below, you can see that the location object, is nested with three sub objects:\n",
    "    \n",
    "\n",
    "    1.latitude\n",
    "    2.longitude\n",
    "    3.needs_recoding"
   ]
  },
  {
   "cell_type": "markdown",
   "metadata": {},
   "source": [
    "Since **data.json( )** is a list you can print out just the first few items of the list to look at your data as a sanity check."
   ]
  },
  {
   "cell_type": "code",
   "execution_count": 8,
   "metadata": {},
   "outputs": [
    {
     "data": {
      "text/plain": [
       "[{'station_name': 'SOUTH SAINT VRAIN NEAR WARD',\n",
       "  'div': '1',\n",
       "  'location': {'latitude': '40.09082',\n",
       "   'needs_recoding': False,\n",
       "   'longitude': '-105.514442'},\n",
       "  'dwr_abbrev': 'SSVWARCO',\n",
       "  'data_source': 'Co. Division of Water Resources',\n",
       "  'usgs_station_id': '06722500',\n",
       "  'amount': '144.00',\n",
       "  'station_type': 'Stream',\n",
       "  'wd': '5',\n",
       "  'http_linkage': {'url': 'https://dwr.state.co.us/Tools/Stations/SSVWARCO'},\n",
       "  'date_time': '2020-06-05T08:30:00.000',\n",
       "  'county': 'BOULDER',\n",
       "  'variable': 'DISCHRG',\n",
       "  'stage': '2.83',\n",
       "  'station_status': 'Active'},\n",
       " {'station_name': 'PECK PELLA CLOVER DITCH',\n",
       "  'div': '1',\n",
       "  'location': {'latitude': '40.17708',\n",
       "   'needs_recoding': False,\n",
       "   'longitude': '-105.178567'},\n",
       "  'dwr_abbrev': 'PCKPELCO',\n",
       "  'data_source': 'Cooperative SDR Program of CDWR & NCWCD',\n",
       "  'amount': '4.50',\n",
       "  'station_type': 'Diversion',\n",
       "  'wd': '5',\n",
       "  'http_linkage': {'url': 'https://dwr.state.co.us/Tools/Stations/PCKPELCO'},\n",
       "  'date_time': '2020-06-05T08:00:00.000',\n",
       "  'county': 'BOULDER',\n",
       "  'variable': 'DISCHRG',\n",
       "  'stage': '0.35',\n",
       "  'station_status': 'Active'}]"
      ]
     },
     "execution_count": 8,
     "metadata": {},
     "output_type": "execute_result"
    }
   ],
   "source": [
    "data.json()[:2]"
   ]
  },
  {
   "cell_type": "markdown",
   "metadata": {},
   "source": [
    "# Convert JSON to Pandas DataFrame"
   ]
  },
  {
   "cell_type": "markdown",
   "metadata": {},
   "source": [
    "Now that you have pulled down the data from the website, you have it in the JSON format. For the next step, you will use the json_normalize() function from the Pandas library to convert this data into a Pandas DataFrame.\n",
    "\n",
    "This function helps organize and flatten data into a semi-structed table."
   ]
  },
  {
   "cell_type": "code",
   "execution_count": 9,
   "metadata": {},
   "outputs": [],
   "source": [
    "from pandas.io.json import json_normalize\n",
    "\n",
    "result = json_normalize(data.json())"
   ]
  },
  {
   "cell_type": "code",
   "execution_count": 10,
   "metadata": {},
   "outputs": [
    {
     "data": {
      "text/html": [
       "<div>\n",
       "<style scoped>\n",
       "    .dataframe tbody tr th:only-of-type {\n",
       "        vertical-align: middle;\n",
       "    }\n",
       "\n",
       "    .dataframe tbody tr th {\n",
       "        vertical-align: top;\n",
       "    }\n",
       "\n",
       "    .dataframe thead th {\n",
       "        text-align: right;\n",
       "    }\n",
       "</style>\n",
       "<table border=\"1\" class=\"dataframe\">\n",
       "  <thead>\n",
       "    <tr style=\"text-align: right;\">\n",
       "      <th></th>\n",
       "      <th>amount</th>\n",
       "      <th>county</th>\n",
       "      <th>data_source</th>\n",
       "      <th>date_time</th>\n",
       "      <th>div</th>\n",
       "      <th>dwr_abbrev</th>\n",
       "      <th>http_linkage.url</th>\n",
       "      <th>location.latitude</th>\n",
       "      <th>location.longitude</th>\n",
       "      <th>location.needs_recoding</th>\n",
       "      <th>stage</th>\n",
       "      <th>station_name</th>\n",
       "      <th>station_status</th>\n",
       "      <th>station_type</th>\n",
       "      <th>usgs_station_id</th>\n",
       "      <th>variable</th>\n",
       "      <th>wd</th>\n",
       "    </tr>\n",
       "  </thead>\n",
       "  <tbody>\n",
       "    <tr>\n",
       "      <th>0</th>\n",
       "      <td>144.00</td>\n",
       "      <td>BOULDER</td>\n",
       "      <td>Co. Division of Water Resources</td>\n",
       "      <td>2020-06-05T08:30:00.000</td>\n",
       "      <td>1</td>\n",
       "      <td>SSVWARCO</td>\n",
       "      <td>https://dwr.state.co.us/Tools/Stations/SSVWARCO</td>\n",
       "      <td>40.09082</td>\n",
       "      <td>-105.514442</td>\n",
       "      <td>False</td>\n",
       "      <td>2.83</td>\n",
       "      <td>SOUTH SAINT VRAIN NEAR WARD</td>\n",
       "      <td>Active</td>\n",
       "      <td>Stream</td>\n",
       "      <td>06722500</td>\n",
       "      <td>DISCHRG</td>\n",
       "      <td>5</td>\n",
       "    </tr>\n",
       "    <tr>\n",
       "      <th>1</th>\n",
       "      <td>4.50</td>\n",
       "      <td>BOULDER</td>\n",
       "      <td>Cooperative SDR Program of CDWR &amp; NCWCD</td>\n",
       "      <td>2020-06-05T08:00:00.000</td>\n",
       "      <td>1</td>\n",
       "      <td>PCKPELCO</td>\n",
       "      <td>https://dwr.state.co.us/Tools/Stations/PCKPELCO</td>\n",
       "      <td>40.17708</td>\n",
       "      <td>-105.178567</td>\n",
       "      <td>False</td>\n",
       "      <td>0.35</td>\n",
       "      <td>PECK PELLA CLOVER DITCH</td>\n",
       "      <td>Active</td>\n",
       "      <td>Diversion</td>\n",
       "      <td>NaN</td>\n",
       "      <td>DISCHRG</td>\n",
       "      <td>5</td>\n",
       "    </tr>\n",
       "    <tr>\n",
       "      <th>2</th>\n",
       "      <td>5.68</td>\n",
       "      <td>BOULDER</td>\n",
       "      <td>Cooperative Program of CDWR, NCWCD &amp; SVLHWCD</td>\n",
       "      <td>2020-06-05T09:00:00.000</td>\n",
       "      <td>1</td>\n",
       "      <td>LONSUPCO</td>\n",
       "      <td>https://dwr.state.co.us/Tools/Stations/LONSUPCO</td>\n",
       "      <td>40.204193</td>\n",
       "      <td>-105.218777</td>\n",
       "      <td>False</td>\n",
       "      <td>0.62</td>\n",
       "      <td>LONGMONT SUPPLY DITCH</td>\n",
       "      <td>Active</td>\n",
       "      <td>Diversion</td>\n",
       "      <td>NaN</td>\n",
       "      <td>DISCHRG</td>\n",
       "      <td>5</td>\n",
       "    </tr>\n",
       "    <tr>\n",
       "      <th>3</th>\n",
       "      <td>499.00</td>\n",
       "      <td>BOULDER</td>\n",
       "      <td>Co. Division of Water Resources</td>\n",
       "      <td>2020-06-05T08:15:00.000</td>\n",
       "      <td>1</td>\n",
       "      <td>SVCLYOCO</td>\n",
       "      <td>https://dwr.state.co.us/Tools/Stations/SVCLYOCO</td>\n",
       "      <td>40.218043</td>\n",
       "      <td>-105.260001</td>\n",
       "      <td>False</td>\n",
       "      <td>4.26</td>\n",
       "      <td>SAINT VRAIN CREEK AT LYONS, CO</td>\n",
       "      <td>Active</td>\n",
       "      <td>Stream</td>\n",
       "      <td>06724000</td>\n",
       "      <td>DISCHRG</td>\n",
       "      <td>5</td>\n",
       "    </tr>\n",
       "    <tr>\n",
       "      <th>4</th>\n",
       "      <td>8.43</td>\n",
       "      <td>BOULDER</td>\n",
       "      <td>Co. Division of Water Resources</td>\n",
       "      <td>2020-06-05T09:00:00.000</td>\n",
       "      <td>1</td>\n",
       "      <td>GRNDITCO</td>\n",
       "      <td>https://dwr.state.co.us/Tools/Stations/GRNDITCO</td>\n",
       "      <td>40.03628</td>\n",
       "      <td>-105.203176</td>\n",
       "      <td>False</td>\n",
       "      <td>NaN</td>\n",
       "      <td>GREEN DITCH</td>\n",
       "      <td>Active</td>\n",
       "      <td>Diversion</td>\n",
       "      <td>NaN</td>\n",
       "      <td>DISCHRG</td>\n",
       "      <td>6</td>\n",
       "    </tr>\n",
       "  </tbody>\n",
       "</table>\n",
       "</div>"
      ],
      "text/plain": [
       "   amount   county                                   data_source  \\\n",
       "0  144.00  BOULDER               Co. Division of Water Resources   \n",
       "1    4.50  BOULDER       Cooperative SDR Program of CDWR & NCWCD   \n",
       "2    5.68  BOULDER  Cooperative Program of CDWR, NCWCD & SVLHWCD   \n",
       "3  499.00  BOULDER               Co. Division of Water Resources   \n",
       "4    8.43  BOULDER               Co. Division of Water Resources   \n",
       "\n",
       "                 date_time div dwr_abbrev  \\\n",
       "0  2020-06-05T08:30:00.000   1   SSVWARCO   \n",
       "1  2020-06-05T08:00:00.000   1   PCKPELCO   \n",
       "2  2020-06-05T09:00:00.000   1   LONSUPCO   \n",
       "3  2020-06-05T08:15:00.000   1   SVCLYOCO   \n",
       "4  2020-06-05T09:00:00.000   1   GRNDITCO   \n",
       "\n",
       "                                  http_linkage.url location.latitude  \\\n",
       "0  https://dwr.state.co.us/Tools/Stations/SSVWARCO          40.09082   \n",
       "1  https://dwr.state.co.us/Tools/Stations/PCKPELCO          40.17708   \n",
       "2  https://dwr.state.co.us/Tools/Stations/LONSUPCO         40.204193   \n",
       "3  https://dwr.state.co.us/Tools/Stations/SVCLYOCO         40.218043   \n",
       "4  https://dwr.state.co.us/Tools/Stations/GRNDITCO          40.03628   \n",
       "\n",
       "  location.longitude  location.needs_recoding stage  \\\n",
       "0        -105.514442                    False  2.83   \n",
       "1        -105.178567                    False  0.35   \n",
       "2        -105.218777                    False  0.62   \n",
       "3        -105.260001                    False  4.26   \n",
       "4        -105.203176                    False   NaN   \n",
       "\n",
       "                     station_name station_status station_type usgs_station_id  \\\n",
       "0     SOUTH SAINT VRAIN NEAR WARD         Active       Stream        06722500   \n",
       "1         PECK PELLA CLOVER DITCH         Active    Diversion             NaN   \n",
       "2           LONGMONT SUPPLY DITCH         Active    Diversion             NaN   \n",
       "3  SAINT VRAIN CREEK AT LYONS, CO         Active       Stream        06724000   \n",
       "4                     GREEN DITCH         Active    Diversion             NaN   \n",
       "\n",
       "  variable wd  \n",
       "0  DISCHRG  5  \n",
       "1  DISCHRG  5  \n",
       "2  DISCHRG  5  \n",
       "3  DISCHRG  5  \n",
       "4  DISCHRG  6  "
      ]
     },
     "execution_count": 10,
     "metadata": {},
     "output_type": "execute_result"
    }
   ],
   "source": [
    "result.head()"
   ]
  },
  {
   "cell_type": "code",
   "execution_count": 11,
   "metadata": {},
   "outputs": [
    {
     "data": {
      "text/plain": [
       "pandas.core.frame.DataFrame"
      ]
     },
     "execution_count": 11,
     "metadata": {},
     "output_type": "execute_result"
    }
   ],
   "source": [
    "type(result)"
   ]
  },
  {
   "cell_type": "code",
   "execution_count": 12,
   "metadata": {},
   "outputs": [
    {
     "data": {
      "text/plain": [
       "Index(['amount', 'county', 'data_source', 'date_time', 'div', 'dwr_abbrev',\n",
       "       'http_linkage.url', 'location.latitude', 'location.longitude',\n",
       "       'location.needs_recoding', 'stage', 'station_name', 'station_status',\n",
       "       'station_type', 'usgs_station_id', 'variable', 'wd'],\n",
       "      dtype='object')"
      ]
     },
     "execution_count": 12,
     "metadata": {},
     "output_type": "execute_result"
    }
   ],
   "source": [
    "result.columns"
   ]
  },
  {
   "cell_type": "markdown",
   "metadata": {},
   "source": [
    "# Data Cleaning for Visualization"
   ]
  },
  {
   "cell_type": "markdown",
   "metadata": {},
   "source": [
    "Now you can clean up the data. Notice that your longitude and latitude values are stored as strings. Do you think you can create a map if these values are stored as strings?"
   ]
  },
  {
   "cell_type": "code",
   "execution_count": 13,
   "metadata": {},
   "outputs": [
    {
     "data": {
      "text/plain": [
       "'40.09082'"
      ]
     },
     "execution_count": 13,
     "metadata": {},
     "output_type": "execute_result"
    }
   ],
   "source": [
    "result['location.latitude'][0]"
   ]
  },
  {
   "cell_type": "markdown",
   "metadata": {},
   "source": [
    "You can convert the strings to type float as follows."
   ]
  },
  {
   "cell_type": "code",
   "execution_count": 14,
   "metadata": {},
   "outputs": [],
   "source": [
    "result['location.latitude'] = result['location.latitude'].astype(float)"
   ]
  },
  {
   "cell_type": "code",
   "execution_count": 15,
   "metadata": {},
   "outputs": [
    {
     "data": {
      "text/plain": [
       "40.09082"
      ]
     },
     "execution_count": 15,
     "metadata": {},
     "output_type": "execute_result"
    }
   ],
   "source": [
    "result['location.latitude'][0]"
   ]
  },
  {
   "cell_type": "code",
   "execution_count": 16,
   "metadata": {},
   "outputs": [
    {
     "data": {
      "text/plain": [
       "'-105.514442'"
      ]
     },
     "execution_count": 16,
     "metadata": {},
     "output_type": "execute_result"
    }
   ],
   "source": [
    "result['location.longitude'][0]"
   ]
  },
  {
   "cell_type": "code",
   "execution_count": 17,
   "metadata": {},
   "outputs": [
    {
     "data": {
      "text/plain": [
       "-105.514442"
      ]
     },
     "execution_count": 17,
     "metadata": {},
     "output_type": "execute_result"
    }
   ],
   "source": [
    "result['location.longitude'] = result['location.longitude'].astype(float)\n",
    "\n",
    "result['location.longitude'][0]"
   ]
  },
  {
   "cell_type": "markdown",
   "metadata": {},
   "source": [
    "Now that you have numeric values for mapping, make sure that there are no missing values"
   ]
  },
  {
   "cell_type": "code",
   "execution_count": 18,
   "metadata": {},
   "outputs": [
    {
     "data": {
      "text/plain": [
       "(67, 17)"
      ]
     },
     "execution_count": 18,
     "metadata": {},
     "output_type": "execute_result"
    }
   ],
   "source": [
    "result.shape"
   ]
  },
  {
   "cell_type": "code",
   "execution_count": 19,
   "metadata": {},
   "outputs": [
    {
     "data": {
      "text/plain": [
       "False"
      ]
     },
     "execution_count": 19,
     "metadata": {},
     "output_type": "execute_result"
    }
   ],
   "source": [
    "result['location.latitude'].isna().any()"
   ]
  },
  {
   "cell_type": "code",
   "execution_count": 20,
   "metadata": {},
   "outputs": [
    {
     "data": {
      "text/plain": [
       "False"
      ]
     },
     "execution_count": 20,
     "metadata": {},
     "output_type": "execute_result"
    }
   ],
   "source": [
    "result['location.longitude'].isna().any()"
   ]
  },
  {
   "cell_type": "markdown",
   "metadata": {},
   "source": [
    "There are no nan values in this data. However, if there were, you could remove rows where a column has a nan value in a specific column with the following: **result_nonan = result.dropna(subset=['location.longitude', 'location.latitude'])**"
   ]
  },
  {
   "cell_type": "markdown",
   "metadata": {},
   "source": [
    "# Data Visualization"
   ]
  },
  {
   "cell_type": "markdown",
   "metadata": {},
   "source": [
    "You will use the folium package to visualize the data. One approach you could take would be to convert your Pandas DataFrame to a Geopandas DataFrame for easy mapping."
   ]
  },
  {
   "cell_type": "code",
   "execution_count": 21,
   "metadata": {},
   "outputs": [
    {
     "name": "stderr",
     "output_type": "stream",
     "text": [
      "C:\\Users\\user\\Anaconda3\\lib\\site-packages\\pyproj\\crs\\crs.py:53: FutureWarning: '+init=<authority>:<code>' syntax is deprecated. '<authority>:<code>' is the preferred initialization method. When making the change, be mindful of axis order changes: https://pyproj4.github.io/pyproj/stable/gotchas.html#axis-order-changes-in-proj-6\n",
      "  return _prepare_from_string(\" \".join(pjargs))\n"
     ]
    }
   ],
   "source": [
    "geometry = [Point(xy) for xy in zip(result['location.longitude'], result['location.latitude'])]\n",
    "crs = {'init': 'epsg:4326'}\n",
    "gdf = GeoDataFrame(result, crs=crs, geometry=geometry)"
   ]
  },
  {
   "cell_type": "code",
   "execution_count": 22,
   "metadata": {},
   "outputs": [
    {
     "data": {
      "text/html": [
       "<div>\n",
       "<style scoped>\n",
       "    .dataframe tbody tr th:only-of-type {\n",
       "        vertical-align: middle;\n",
       "    }\n",
       "\n",
       "    .dataframe tbody tr th {\n",
       "        vertical-align: top;\n",
       "    }\n",
       "\n",
       "    .dataframe thead th {\n",
       "        text-align: right;\n",
       "    }\n",
       "</style>\n",
       "<table border=\"1\" class=\"dataframe\">\n",
       "  <thead>\n",
       "    <tr style=\"text-align: right;\">\n",
       "      <th></th>\n",
       "      <th>amount</th>\n",
       "      <th>county</th>\n",
       "      <th>data_source</th>\n",
       "      <th>date_time</th>\n",
       "      <th>div</th>\n",
       "      <th>dwr_abbrev</th>\n",
       "      <th>http_linkage.url</th>\n",
       "      <th>location.latitude</th>\n",
       "      <th>location.longitude</th>\n",
       "      <th>location.needs_recoding</th>\n",
       "      <th>stage</th>\n",
       "      <th>station_name</th>\n",
       "      <th>station_status</th>\n",
       "      <th>station_type</th>\n",
       "      <th>usgs_station_id</th>\n",
       "      <th>variable</th>\n",
       "      <th>wd</th>\n",
       "      <th>geometry</th>\n",
       "    </tr>\n",
       "  </thead>\n",
       "  <tbody>\n",
       "    <tr>\n",
       "      <th>0</th>\n",
       "      <td>144.00</td>\n",
       "      <td>BOULDER</td>\n",
       "      <td>Co. Division of Water Resources</td>\n",
       "      <td>2020-06-05T08:30:00.000</td>\n",
       "      <td>1</td>\n",
       "      <td>SSVWARCO</td>\n",
       "      <td>https://dwr.state.co.us/Tools/Stations/SSVWARCO</td>\n",
       "      <td>40.090820</td>\n",
       "      <td>-105.514442</td>\n",
       "      <td>False</td>\n",
       "      <td>2.83</td>\n",
       "      <td>SOUTH SAINT VRAIN NEAR WARD</td>\n",
       "      <td>Active</td>\n",
       "      <td>Stream</td>\n",
       "      <td>06722500</td>\n",
       "      <td>DISCHRG</td>\n",
       "      <td>5</td>\n",
       "      <td>POINT (-105.51444 40.09082)</td>\n",
       "    </tr>\n",
       "    <tr>\n",
       "      <th>1</th>\n",
       "      <td>4.50</td>\n",
       "      <td>BOULDER</td>\n",
       "      <td>Cooperative SDR Program of CDWR &amp; NCWCD</td>\n",
       "      <td>2020-06-05T08:00:00.000</td>\n",
       "      <td>1</td>\n",
       "      <td>PCKPELCO</td>\n",
       "      <td>https://dwr.state.co.us/Tools/Stations/PCKPELCO</td>\n",
       "      <td>40.177080</td>\n",
       "      <td>-105.178567</td>\n",
       "      <td>False</td>\n",
       "      <td>0.35</td>\n",
       "      <td>PECK PELLA CLOVER DITCH</td>\n",
       "      <td>Active</td>\n",
       "      <td>Diversion</td>\n",
       "      <td>NaN</td>\n",
       "      <td>DISCHRG</td>\n",
       "      <td>5</td>\n",
       "      <td>POINT (-105.17857 40.17708)</td>\n",
       "    </tr>\n",
       "    <tr>\n",
       "      <th>2</th>\n",
       "      <td>5.68</td>\n",
       "      <td>BOULDER</td>\n",
       "      <td>Cooperative Program of CDWR, NCWCD &amp; SVLHWCD</td>\n",
       "      <td>2020-06-05T09:00:00.000</td>\n",
       "      <td>1</td>\n",
       "      <td>LONSUPCO</td>\n",
       "      <td>https://dwr.state.co.us/Tools/Stations/LONSUPCO</td>\n",
       "      <td>40.204193</td>\n",
       "      <td>-105.218777</td>\n",
       "      <td>False</td>\n",
       "      <td>0.62</td>\n",
       "      <td>LONGMONT SUPPLY DITCH</td>\n",
       "      <td>Active</td>\n",
       "      <td>Diversion</td>\n",
       "      <td>NaN</td>\n",
       "      <td>DISCHRG</td>\n",
       "      <td>5</td>\n",
       "      <td>POINT (-105.21878 40.20419)</td>\n",
       "    </tr>\n",
       "    <tr>\n",
       "      <th>3</th>\n",
       "      <td>499.00</td>\n",
       "      <td>BOULDER</td>\n",
       "      <td>Co. Division of Water Resources</td>\n",
       "      <td>2020-06-05T08:15:00.000</td>\n",
       "      <td>1</td>\n",
       "      <td>SVCLYOCO</td>\n",
       "      <td>https://dwr.state.co.us/Tools/Stations/SVCLYOCO</td>\n",
       "      <td>40.218043</td>\n",
       "      <td>-105.260001</td>\n",
       "      <td>False</td>\n",
       "      <td>4.26</td>\n",
       "      <td>SAINT VRAIN CREEK AT LYONS, CO</td>\n",
       "      <td>Active</td>\n",
       "      <td>Stream</td>\n",
       "      <td>06724000</td>\n",
       "      <td>DISCHRG</td>\n",
       "      <td>5</td>\n",
       "      <td>POINT (-105.26000 40.21804)</td>\n",
       "    </tr>\n",
       "    <tr>\n",
       "      <th>4</th>\n",
       "      <td>8.43</td>\n",
       "      <td>BOULDER</td>\n",
       "      <td>Co. Division of Water Resources</td>\n",
       "      <td>2020-06-05T09:00:00.000</td>\n",
       "      <td>1</td>\n",
       "      <td>GRNDITCO</td>\n",
       "      <td>https://dwr.state.co.us/Tools/Stations/GRNDITCO</td>\n",
       "      <td>40.036280</td>\n",
       "      <td>-105.203176</td>\n",
       "      <td>False</td>\n",
       "      <td>NaN</td>\n",
       "      <td>GREEN DITCH</td>\n",
       "      <td>Active</td>\n",
       "      <td>Diversion</td>\n",
       "      <td>NaN</td>\n",
       "      <td>DISCHRG</td>\n",
       "      <td>6</td>\n",
       "      <td>POINT (-105.20318 40.03628)</td>\n",
       "    </tr>\n",
       "  </tbody>\n",
       "</table>\n",
       "</div>"
      ],
      "text/plain": [
       "   amount   county                                   data_source  \\\n",
       "0  144.00  BOULDER               Co. Division of Water Resources   \n",
       "1    4.50  BOULDER       Cooperative SDR Program of CDWR & NCWCD   \n",
       "2    5.68  BOULDER  Cooperative Program of CDWR, NCWCD & SVLHWCD   \n",
       "3  499.00  BOULDER               Co. Division of Water Resources   \n",
       "4    8.43  BOULDER               Co. Division of Water Resources   \n",
       "\n",
       "                 date_time div dwr_abbrev  \\\n",
       "0  2020-06-05T08:30:00.000   1   SSVWARCO   \n",
       "1  2020-06-05T08:00:00.000   1   PCKPELCO   \n",
       "2  2020-06-05T09:00:00.000   1   LONSUPCO   \n",
       "3  2020-06-05T08:15:00.000   1   SVCLYOCO   \n",
       "4  2020-06-05T09:00:00.000   1   GRNDITCO   \n",
       "\n",
       "                                  http_linkage.url  location.latitude  \\\n",
       "0  https://dwr.state.co.us/Tools/Stations/SSVWARCO          40.090820   \n",
       "1  https://dwr.state.co.us/Tools/Stations/PCKPELCO          40.177080   \n",
       "2  https://dwr.state.co.us/Tools/Stations/LONSUPCO          40.204193   \n",
       "3  https://dwr.state.co.us/Tools/Stations/SVCLYOCO          40.218043   \n",
       "4  https://dwr.state.co.us/Tools/Stations/GRNDITCO          40.036280   \n",
       "\n",
       "   location.longitude  location.needs_recoding stage  \\\n",
       "0         -105.514442                    False  2.83   \n",
       "1         -105.178567                    False  0.35   \n",
       "2         -105.218777                    False  0.62   \n",
       "3         -105.260001                    False  4.26   \n",
       "4         -105.203176                    False   NaN   \n",
       "\n",
       "                     station_name station_status station_type usgs_station_id  \\\n",
       "0     SOUTH SAINT VRAIN NEAR WARD         Active       Stream        06722500   \n",
       "1         PECK PELLA CLOVER DITCH         Active    Diversion             NaN   \n",
       "2           LONGMONT SUPPLY DITCH         Active    Diversion             NaN   \n",
       "3  SAINT VRAIN CREEK AT LYONS, CO         Active       Stream        06724000   \n",
       "4                     GREEN DITCH         Active    Diversion             NaN   \n",
       "\n",
       "  variable wd                     geometry  \n",
       "0  DISCHRG  5  POINT (-105.51444 40.09082)  \n",
       "1  DISCHRG  5  POINT (-105.17857 40.17708)  \n",
       "2  DISCHRG  5  POINT (-105.21878 40.20419)  \n",
       "3  DISCHRG  5  POINT (-105.26000 40.21804)  \n",
       "4  DISCHRG  6  POINT (-105.20318 40.03628)  "
      ]
     },
     "execution_count": 22,
     "metadata": {},
     "output_type": "execute_result"
    }
   ],
   "source": [
    "gdf.head()"
   ]
  },
  {
   "cell_type": "markdown",
   "metadata": {},
   "source": [
    "Then, you can plot the data using the folium functions **GeoJson()** and **add_to()** to add the data from the **Geopandas DataFrame** to the map object."
   ]
  },
  {
   "cell_type": "code",
   "execution_count": 23,
   "metadata": {},
   "outputs": [
    {
     "data": {
      "text/plain": [
       "<folium.features.GeoJson at 0x170a10d8be0>"
      ]
     },
     "execution_count": 23,
     "metadata": {},
     "output_type": "execute_result"
    }
   ],
   "source": [
    "m = folium.Map([40.01, -105.27], zoom_start= 10, tiles='cartodbpositron')\n",
    "folium.GeoJson(gdf).add_to(m)"
   ]
  },
  {
   "cell_type": "code",
   "execution_count": 24,
   "metadata": {},
   "outputs": [
    {
     "data": {
      "text/html": [
       "<div style=\"width:100%;\"><div style=\"position:relative;width:100%;height:0;padding-bottom:60%;\"><span style=\"color:#565656\">Make this Notebook Trusted to load map: File -> Trust Notebook</span><iframe src=\"about:blank\" style=\"position:absolute;width:100%;height:100%;left:0;top:0;border:none !important;\" data-html=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 onload=\"this.contentDocument.open();this.contentDocument.write(atob(this.getAttribute('data-html')));this.contentDocument.close();\" allowfullscreen webkitallowfullscreen mozallowfullscreen></iframe></div></div>"
      ],
      "text/plain": [
       "<folium.folium.Map at 0x170a10d85c0>"
      ]
     },
     "execution_count": 24,
     "metadata": {},
     "output_type": "execute_result"
    }
   ],
   "source": [
    "m"
   ]
  },
  {
   "cell_type": "markdown",
   "metadata": {},
   "source": [
    "Great! You now have an interactive map in your notebook!\n",
    "\n",
    "You can also cluster the markers, and add a popup to each marker, so you can give your viewers more information about station: such as its name and the amount of precipitation measured.\n",
    "\n",
    "For this example below, you will work with the Pandas DataFrame you originally created from the JSON, instead of the Geopandas GeoDataFrame."
   ]
  },
  {
   "cell_type": "code",
   "execution_count": 26,
   "metadata": {},
   "outputs": [],
   "source": [
    "# Get the latitude and longitude from result as a list\n",
    "locations = result[['location.latitude', 'location.longitude']]\n",
    "coords = locations.values.tolist()"
   ]
  },
  {
   "cell_type": "code",
   "execution_count": 27,
   "metadata": {},
   "outputs": [],
   "source": [
    "from folium.plugins import MarkerCluster\n",
    "\n",
    "m = folium.Map([40.01, -105.27], zoom_start= 10, tiles='cartodbpositron')\n",
    "\n",
    "marker_cluster = MarkerCluster().add_to(m)\n",
    "\n",
    "for point in range(0, len(coords)):\n",
    "    folium.Marker(location = coords[point], popup= 'Name: ' + result['station_name'][point] + ' ' + 'Precip: ' + str(result['amount'][point])).add_to(marker_cluster)\n"
   ]
  },
  {
   "cell_type": "code",
   "execution_count": 28,
   "metadata": {},
   "outputs": [
    {
     "data": {
      "text/html": [
       "<div style=\"width:100%;\"><div style=\"position:relative;width:100%;height:0;padding-bottom:60%;\"><span style=\"color:#565656\">Make this Notebook Trusted to load map: File -> Trust Notebook</span><iframe src=\"about:blank\" style=\"position:absolute;width:100%;height:100%;left:0;top:0;border:none !important;\" data-html=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 onload=\"this.contentDocument.open();this.contentDocument.write(atob(this.getAttribute('data-html')));this.contentDocument.close();\" allowfullscreen webkitallowfullscreen mozallowfullscreen></iframe></div></div>"
      ],
      "text/plain": [
       "<folium.folium.Map at 0x170a0c88240>"
      ]
     },
     "execution_count": 28,
     "metadata": {},
     "output_type": "execute_result"
    }
   ],
   "source": [
    "m"
   ]
  },
  {
   "cell_type": "code",
   "execution_count": null,
   "metadata": {},
   "outputs": [],
   "source": []
  }
 ],
 "metadata": {
  "kernelspec": {
   "display_name": "Python 3",
   "language": "python",
   "name": "python3"
  },
  "language_info": {
   "codemirror_mode": {
    "name": "ipython",
    "version": 3
   },
   "file_extension": ".py",
   "mimetype": "text/x-python",
   "name": "python",
   "nbconvert_exporter": "python",
   "pygments_lexer": "ipython3",
   "version": "3.7.3"
  }
 },
 "nbformat": 4,
 "nbformat_minor": 2
}
